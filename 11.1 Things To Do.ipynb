{
 "cells": [
  {
   "cell_type": "code",
   "execution_count": null,
   "id": "4bcc7edd-4fd5-459d-9147-eec7b18614e0",
   "metadata": {},
   "outputs": [],
   "source": [
    "# Dakota Wrigley\n",
    "# 11.1 in 'Things To Do'\n",
    "# This program is designed to be a module that is called on later\n",
    "# It creates a custom function that prints to screen the hours of operation for the zoo \n",
    "\n",
    "def hours():\n",
    "    print('Open 9-5 daily')"
   ]
  }
 ],
 "metadata": {
  "kernelspec": {
   "display_name": "Python 3 (ipykernel)",
   "language": "python",
   "name": "python3"
  },
  "language_info": {
   "codemirror_mode": {
    "name": "ipython",
    "version": 3
   },
   "file_extension": ".py",
   "mimetype": "text/x-python",
   "name": "python",
   "nbconvert_exporter": "python",
   "pygments_lexer": "ipython3",
   "version": "3.11.7"
  }
 },
 "nbformat": 4,
 "nbformat_minor": 5
}
