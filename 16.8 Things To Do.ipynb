{
 "cells": [
  {
   "cell_type": "code",
   "execution_count": null,
   "id": "fc8e4eda-79b9-4a72-9232-22f542b6662e",
   "metadata": {},
   "outputs": [],
   "source": [
    "# Dakota Wrigley\n",
    "# 16.8 in 'Things To Do'\n",
    "\n",
    "import csv\n",
    "import sqlite3\n",
    "import sqlalchemy \n",
    "from sqlalchemy import create_engine\n",
    "from sqlalchemy import MetaData\n",
    "from sqlalchemy import Table\n",
    "MetaData = MetaData()\n",
    "\n",
    "conn = sqlite3.connect('books.db')\n",
    "conn.cursor()\n",
    "conn.execute('''CREATE TABLE IF NOT EXISTS books\n",
    "             (title TEXT, author TEXT, year INTEGER)''')\n",
    "\n",
    "with open('books2.csv', 'r') as file:\n",
    "    reader = csv.reader(file)\n",
    "    next(reader)\n",
    "    for row in reader:\n",
    "        conn.execute(\"INSERT INTO books VALUES (?, ?, ?)\", row)\n",
    "conn.commit()\n",
    "conn.close()\n",
    "\n",
    "engine = create_engine('sqlite:///books.db')\n",
    "MetaData.reflect(bind=engine)\n",
    "books_table = MetaData.tables['books']\n",
    "\n",
    "connection = engine.connect()\n",
    "select_query = books_table.select().order_by(books_table.c.title)\n",
    "result = connection.execute(select_query)\n",
    "print(\"Let's print the title column in alphabetical order!\")\n",
    "for row in result:\n",
    "    print(row[0])"
   ]
  }
 ],
 "metadata": {
  "kernelspec": {
   "display_name": "Python 3 (ipykernel)",
   "language": "python",
   "name": "python3"
  },
  "language_info": {
   "codemirror_mode": {
    "name": "ipython",
    "version": 3
   },
   "file_extension": ".py",
   "mimetype": "text/x-python",
   "name": "python",
   "nbconvert_exporter": "python",
   "pygments_lexer": "ipython3",
   "version": "3.11.7"
  }
 },
 "nbformat": 4,
 "nbformat_minor": 5
}
